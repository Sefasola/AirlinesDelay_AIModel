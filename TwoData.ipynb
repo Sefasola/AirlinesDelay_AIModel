{
 "cells": [
  {
   "cell_type": "code",
   "execution_count": 1,
   "id": "b38966fe-84cf-4961-a092-fca2ca905232",
   "metadata": {},
   "outputs": [
    {
     "ename": "ModuleNotFoundError",
     "evalue": "No module named 'xarray'",
     "output_type": "error",
     "traceback": [
      "\u001b[0;31m---------------------------------------------------------------------------\u001b[0m",
      "\u001b[0;31mModuleNotFoundError\u001b[0m                       Traceback (most recent call last)",
      "Cell \u001b[0;32mIn[1], line 1\u001b[0m\n\u001b[0;32m----> 1\u001b[0m \u001b[38;5;28;01mimport\u001b[39;00m\u001b[38;5;250m \u001b[39m\u001b[38;5;21;01mxarray\u001b[39;00m\u001b[38;5;250m \u001b[39m\u001b[38;5;28;01mas\u001b[39;00m\u001b[38;5;250m \u001b[39m\u001b[38;5;21;01mxr\u001b[39;00m\n\u001b[1;32m      3\u001b[0m \u001b[38;5;66;03m# Dosyaları sırayla oku\u001b[39;00m\n\u001b[1;32m      4\u001b[0m ds_q1 \u001b[38;5;241m=\u001b[39m xr\u001b[38;5;241m.\u001b[39mopen_dataset(\u001b[38;5;124m\"\u001b[39m\u001b[38;5;124m2002_Q1.nc\u001b[39m\u001b[38;5;124m\"\u001b[39m, engine\u001b[38;5;241m=\u001b[39m\u001b[38;5;124m\"\u001b[39m\u001b[38;5;124mh5netcdf\u001b[39m\u001b[38;5;124m\"\u001b[39m)\n",
      "\u001b[0;31mModuleNotFoundError\u001b[0m: No module named 'xarray'"
     ]
    }
   ],
   "source": [
    "import xarray as xr\n",
    "\n",
    "# Dosyaları sırayla oku\n",
    "ds_q1 = xr.open_dataset(\"2002_Q1.nc\", engine=\"h5netcdf\")\n",
    "ds_q2 = xr.open_dataset(\"2002_Q2.nc\", engine=\"h5netcdf\")\n",
    "\n"
   ]
  },
  {
   "cell_type": "code",
   "execution_count": null,
   "id": "294aa63f-57a6-49d7-a8fa-3781c2a56998",
   "metadata": {},
   "outputs": [],
   "source": [
    "# Liste halinde birleştirme (zaman boyutuna göre)\n",
    "ds_1989_full = xr.concat([ds_q1, ds_q2], dim=\"valid_time\")\n"
   ]
  },
  {
   "cell_type": "code",
   "execution_count": null,
   "id": "22428509-d01e-4a6a-bc7f-f96c6361f346",
   "metadata": {},
   "outputs": [],
   "source": [
    "print(ds_1989_full)\n"
   ]
  },
  {
   "cell_type": "code",
   "execution_count": null,
   "id": "6f9c4a89-fe85-4123-815b-12d813e4f23f",
   "metadata": {},
   "outputs": [],
   "source": [
    "# Yerel diske kaydet\n",
    "ds_1989_full.to_netcdf(\"2002_merged.nc\")\n"
   ]
  },
  {
   "cell_type": "code",
   "execution_count": null,
   "id": "23eb3958-1cb2-435f-bd9e-dd8529d0b562",
   "metadata": {},
   "outputs": [],
   "source": [
    "import boto3\n",
    "\n",
    "s3 = boto3.client(\"s3\")\n",
    "bucket_name = \"airlinessss\"\n",
    "s3.upload_file(\"2002_merged.nc\", bucket_name, \"2002_merged.nc\")\n"
   ]
  },
  {
   "cell_type": "code",
   "execution_count": null,
   "id": "72b1298f-38cd-48b5-b4e5-d5b04bdf5c3d",
   "metadata": {},
   "outputs": [],
   "source": []
  }
 ],
 "metadata": {
  "kernelspec": {
   "display_name": "Python 3 (ipykernel)",
   "language": "python",
   "name": "python3"
  },
  "language_info": {
   "codemirror_mode": {
    "name": "ipython",
    "version": 3
   },
   "file_extension": ".py",
   "mimetype": "text/x-python",
   "name": "python",
   "nbconvert_exporter": "python",
   "pygments_lexer": "ipython3",
   "version": "3.11.11"
  }
 },
 "nbformat": 4,
 "nbformat_minor": 5
}
