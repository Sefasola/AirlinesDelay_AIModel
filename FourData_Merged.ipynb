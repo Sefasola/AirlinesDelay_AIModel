{
 "cells": [
  {
   "cell_type": "code",
   "execution_count": 1,
   "id": "a542ba06-1952-40a3-ab06-3d3c20276b28",
   "metadata": {},
   "outputs": [],
   "source": [
    "import xarray as xr\n",
    "\n",
    "# Dosyaları sırayla oku\n",
    "ds_q1 = xr.open_dataset(\"1993_Q1.nc\", engine=\"h5netcdf\")\n",
    "ds_q2 = xr.open_dataset(\"1993_Q2.nc\", engine=\"h5netcdf\")\n",
    "ds_q3 = xr.open_dataset(\"1993_Q3.nc\", engine=\"h5netcdf\")\n",
    "ds_q4 = xr.open_dataset(\"1993_Q4.nc\", engine=\"h5netcdf\")\n"
   ]
  },
  {
   "cell_type": "code",
   "execution_count": 2,
   "id": "e9eba1ec-206f-4c09-99e8-94a5a051fe49",
   "metadata": {},
   "outputs": [],
   "source": [
    "# Liste halinde birleştirme (zaman boyutuna göre)\n",
    "ds_1989_full = xr.concat([ds_q1, ds_q2, ds_q3, ds_q4], dim=\"valid_time\")\n"
   ]
  },
  {
   "cell_type": "code",
   "execution_count": 3,
   "id": "64e90572-d2d8-4b65-9d86-1812885b10ba",
   "metadata": {},
   "outputs": [
    {
     "name": "stdout",
     "output_type": "stream",
     "text": [
      "<xarray.Dataset> Size: 5GB\n",
      "Dimensions:     (valid_time: 8760, latitude: 105, longitude: 237)\n",
      "Coordinates:\n",
      "    number      int64 8B 0\n",
      "  * valid_time  (valid_time) datetime64[ns] 70kB 1993-01-01 ... 1993-12-31T23...\n",
      "  * latitude    (latitude) float64 840B 50.0 49.75 49.5 ... 24.5 24.25 24.0\n",
      "  * longitude   (longitude) float64 2kB -125.0 -124.8 -124.5 ... -66.25 -66.0\n",
      "    expver      (valid_time) <U4 140kB '0001' '0001' '0001' ... '0001' '0001'\n",
      "Data variables:\n",
      "    u10         (valid_time, latitude, longitude) float32 872MB 0.402 ... -2.81\n",
      "    v10         (valid_time, latitude, longitude) float32 872MB -1.255 ... -1...\n",
      "    d2m         (valid_time, latitude, longitude) float32 872MB 266.7 ... 293.1\n",
      "    t2m         (valid_time, latitude, longitude) float32 872MB 271.6 ... 298.0\n",
      "    sp          (valid_time, latitude, longitude) float32 872MB 1.007e+05 ......\n",
      "    tp          (valid_time, latitude, longitude) float32 872MB 0.0 0.0 ... 0.0\n",
      "Attributes:\n",
      "    GRIB_centre:             ecmf\n",
      "    GRIB_centreDescription:  European Centre for Medium-Range Weather Forecasts\n",
      "    GRIB_subCentre:          0\n",
      "    Conventions:             CF-1.7\n",
      "    institution:             European Centre for Medium-Range Weather Forecasts\n",
      "    history:                 2025-03-28T20:59 GRIB to CDM+CF via cfgrib-0.9.1...\n"
     ]
    }
   ],
   "source": [
    "print(ds_1989_full)\n"
   ]
  },
  {
   "cell_type": "code",
   "execution_count": 4,
   "id": "123af2e9-e3ee-4f38-8fdb-735ff029dbe4",
   "metadata": {},
   "outputs": [],
   "source": [
    "# Yerel diske kaydet\n",
    "ds_1989_full.to_netcdf(\"1993_merged.nc\")\n"
   ]
  },
  {
   "cell_type": "code",
   "execution_count": 5,
   "id": "b08b89c7-2ff4-439b-87ed-4b76ae903f6e",
   "metadata": {},
   "outputs": [],
   "source": [
    "import boto3\n",
    "\n",
    "s3 = boto3.client(\"s3\")\n",
    "bucket_name = \"airlinessss\"\n",
    "s3.upload_file(\"1993_merged.nc\", bucket_name, \"1993_merged.nc\")\n"
   ]
  }
 ],
 "metadata": {
  "kernelspec": {
   "display_name": "Python 3 (ipykernel)",
   "language": "python",
   "name": "python3"
  },
  "language_info": {
   "codemirror_mode": {
    "name": "ipython",
    "version": 3
   },
   "file_extension": ".py",
   "mimetype": "text/x-python",
   "name": "python",
   "nbconvert_exporter": "python",
   "pygments_lexer": "ipython3",
   "version": "3.11.11"
  }
 },
 "nbformat": 4,
 "nbformat_minor": 5
}
