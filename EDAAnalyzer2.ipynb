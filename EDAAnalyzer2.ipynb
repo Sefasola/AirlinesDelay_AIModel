{
 "cells": [
  {
   "cell_type": "code",
   "execution_count": 4,
   "id": "fea74e7f-6458-4bf2-aaf8-8864c10246d2",
   "metadata": {},
   "outputs": [
    {
     "name": "stdout",
     "output_type": "stream",
     "text": [
      "Atılan sütunlar (%20’den fazla eksik): ['WheelsOff_time', 'WheelsOn_time', 'TaxiIn_log', 'TaxiOut_log']\n",
      "Kalan eksik değer var mı?: False\n",
      "Her sütundaki kalan eksik değer sayısı:\n",
      " Series([], dtype: int64)\n"
     ]
    }
   ],
   "source": [
    "import os\n",
    "import pickle\n",
    "import pandas as pd\n",
    "\n",
    "# ——— 1) Veriyi yükle ve kopyala ———\n",
    "cache_dir = \"weather_cache\"\n",
    "pkl_path   = os.path.join(cache_dir, \"all_years_merged.pkl\")\n",
    "with open(pkl_path, \"rb\") as f:\n",
    "    df = pickle.load(f)\n",
    "df = df.copy()\n",
    "\n",
    "# ——— 2) Çok eksik sütunları at ———\n",
    "missing_ratio = df.isnull().mean()\n",
    "to_drop       = missing_ratio[missing_ratio > 0.20].index.tolist()\n",
    "print(\"Atılan sütunlar (%20’den fazla eksik):\", to_drop)\n",
    "df.drop(columns=to_drop, inplace=True)\n",
    "\n",
    "# ——— 3a) Sürekli meteoroloji değişkenleri → medyan ———\n",
    "cont_cols = ['t2m', 'u10', 'v10', 'd2m', 'sp', 'tp', 'Speed']\n",
    "for col in cont_cols:\n",
    "    med = df[col].median()\n",
    "    df[col] = df[col].fillna(med)\n",
    "\n",
    "# ——— 3b) Kategorik/grup değişkenleri → mod ———\n",
    "cat_cols = ['ArrDel15', 'ArrivalDelayGroups', 'DepDel15', 'DepartureDelayGroups']\n",
    "for col in cat_cols:\n",
    "    mode = df[col].mode()[0]\n",
    "    df[col] = df[col].fillna(mode)\n",
    "\n",
    "# ——— 3c) Tüm saat sütunları için ileri/geri doldurma ———\n",
    "time_cols = ['CRSArrTime_time', 'DepTime_time', 'ArrTime_time']\n",
    "for col in time_cols:\n",
    "    df[col] = df[col].ffill().bfill()\n",
    "\n",
    "# ——— 4) Son kontrol ———\n",
    "print(\"Kalan eksik değer var mı?:\", df.isnull().any().any())\n",
    "print(\"Her sütundaki kalan eksik değer sayısı:\\n\", \n",
    "      df.isnull().sum().loc[lambda x: x>0])\n"
   ]
  },
  {
   "cell_type": "code",
   "execution_count": 5,
   "id": "2cfa8ec0-f984-4454-bafb-8a17e89a4710",
   "metadata": {},
   "outputs": [],
   "source": [
    "df.to_pickle(\"weather_cache/last_all_years_cleaned.pkl\")"
   ]
  },
  {
   "cell_type": "code",
   "execution_count": null,
   "id": "3d94d77e-859e-4d92-a44b-125adc7fa072",
   "metadata": {},
   "outputs": [],
   "source": []
  }
 ],
 "metadata": {
  "kernelspec": {
   "display_name": "Python 3 (ipykernel)",
   "language": "python",
   "name": "python3"
  },
  "language_info": {
   "codemirror_mode": {
    "name": "ipython",
    "version": 3
   },
   "file_extension": ".py",
   "mimetype": "text/x-python",
   "name": "python",
   "nbconvert_exporter": "python",
   "pygments_lexer": "ipython3",
   "version": "3.11.11"
  }
 },
 "nbformat": 4,
 "nbformat_minor": 5
}
