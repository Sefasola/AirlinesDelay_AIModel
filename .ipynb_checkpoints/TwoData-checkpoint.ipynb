{
 "cells": [
  {
   "cell_type": "code",
   "execution_count": 6,
   "id": "b38966fe-84cf-4961-a092-fca2ca905232",
   "metadata": {},
   "outputs": [],
   "source": [
    "import xarray as xr\n",
    "\n",
    "# Dosyaları sırayla oku\n",
    "ds_q1 = xr.open_dataset(\"2020_Q1.nc\", engine=\"h5netcdf\")\n",
    "ds_q2 = xr.open_dataset(\"2020_Q2.nc\", engine=\"h5netcdf\")\n",
    "\n"
   ]
  },
  {
   "cell_type": "code",
   "execution_count": 7,
   "id": "294aa63f-57a6-49d7-a8fa-3781c2a56998",
   "metadata": {},
   "outputs": [],
   "source": [
    "# Liste halinde birleştirme (zaman boyutuna göre)\n",
    "ds_1989_full = xr.concat([ds_q1, ds_q2], dim=\"valid_time\")\n"
   ]
  },
  {
   "cell_type": "code",
   "execution_count": 8,
   "id": "22428509-d01e-4a6a-bc7f-f96c6361f346",
   "metadata": {},
   "outputs": [
    {
     "name": "stdout",
     "output_type": "stream",
     "text": [
      "<xarray.Dataset> Size: 5GB\n",
      "Dimensions:     (valid_time: 8760, latitude: 105, longitude: 237)\n",
      "Coordinates:\n",
      "    number      int64 8B 0\n",
      "  * valid_time  (valid_time) datetime64[ns] 70kB 2019-01-01 ... 2019-12-31T23...\n",
      "  * latitude    (latitude) float64 840B 50.0 49.75 49.5 ... 24.5 24.25 24.0\n",
      "  * longitude   (longitude) float64 2kB -125.0 -124.8 -124.5 ... -66.25 -66.0\n",
      "    expver      (valid_time) <U4 140kB '0001' '0001' '0001' ... '0001' '0001'\n",
      "Data variables:\n",
      "    u10         (valid_time, latitude, longitude) float32 872MB -0.9445 ... -...\n",
      "    v10         (valid_time, latitude, longitude) float32 872MB -1.371 ... -0...\n",
      "    d2m         (valid_time, latitude, longitude) float32 872MB 273.1 ... 291.5\n",
      "    t2m         (valid_time, latitude, longitude) float32 872MB 277.2 ... 298.2\n",
      "    sp          (valid_time, latitude, longitude) float32 872MB 1.024e+05 ......\n",
      "    tp          (valid_time, latitude, longitude) float32 872MB 0.0 0.0 ... 0.0\n",
      "Attributes:\n",
      "    GRIB_centre:             ecmf\n",
      "    GRIB_centreDescription:  European Centre for Medium-Range Weather Forecasts\n",
      "    GRIB_subCentre:          0\n",
      "    Conventions:             CF-1.7\n",
      "    institution:             European Centre for Medium-Range Weather Forecasts\n",
      "    history:                 2025-04-07T20:45 GRIB to CDM+CF via cfgrib-0.9.1...\n"
     ]
    }
   ],
   "source": [
    "print(ds_1989_full)\n"
   ]
  },
  {
   "cell_type": "code",
   "execution_count": 9,
   "id": "6f9c4a89-fe85-4123-815b-12d813e4f23f",
   "metadata": {},
   "outputs": [],
   "source": [
    "# Yerel diske kaydet\n",
    "ds_1989_full.to_netcdf(\"2020_merged.nc\")\n"
   ]
  },
  {
   "cell_type": "code",
   "execution_count": 10,
   "id": "23eb3958-1cb2-435f-bd9e-dd8529d0b562",
   "metadata": {},
   "outputs": [],
   "source": [
    "import boto3\n",
    "\n",
    "s3 = boto3.client(\"s3\")\n",
    "bucket_name = \"airlinessss\"\n",
    "s3.upload_file(\"2019_merged.nc\", bucket_name, \"2019_merged.nc\")\n"
   ]
  },
  {
   "cell_type": "code",
   "execution_count": null,
   "id": "72b1298f-38cd-48b5-b4e5-d5b04bdf5c3d",
   "metadata": {},
   "outputs": [],
   "source": []
  }
 ],
 "metadata": {
  "kernelspec": {
   "display_name": "Python 3 (ipykernel)",
   "language": "python",
   "name": "python3"
  },
  "language_info": {
   "codemirror_mode": {
    "name": "ipython",
    "version": 3
   },
   "file_extension": ".py",
   "mimetype": "text/x-python",
   "name": "python",
   "nbconvert_exporter": "python",
   "pygments_lexer": "ipython3",
   "version": "3.11.11"
  }
 },
 "nbformat": 4,
 "nbformat_minor": 5
}
