{
 "cells": [
  {
   "cell_type": "code",
   "execution_count": 1,
   "id": "f62e6bbb-eb24-47b8-b86e-c134aab35449",
   "metadata": {},
   "outputs": [
    {
     "name": "stdout",
     "output_type": "stream",
     "text": [
      "Collecting xarray\n",
      "  Using cached xarray-2025.3.1-py3-none-any.whl.metadata (12 kB)\n",
      "Collecting netCDF4\n",
      "  Using cached netCDF4-1.7.2-cp311-cp311-manylinux_2_17_x86_64.manylinux2014_x86_64.whl.metadata (1.8 kB)\n",
      "Requirement already satisfied: numpy>=1.24 in /opt/conda/lib/python3.11/site-packages (from xarray) (1.26.4)\n",
      "Requirement already satisfied: packaging>=23.2 in /opt/conda/lib/python3.11/site-packages (from xarray) (24.2)\n",
      "Requirement already satisfied: pandas>=2.1 in /opt/conda/lib/python3.11/site-packages (from xarray) (2.2.3)\n",
      "Collecting cftime (from netCDF4)\n",
      "  Using cached cftime-1.6.4.post1-cp311-cp311-manylinux_2_17_x86_64.manylinux2014_x86_64.whl.metadata (8.7 kB)\n",
      "Requirement already satisfied: certifi in /opt/conda/lib/python3.11/site-packages (from netCDF4) (2025.1.31)\n",
      "Requirement already satisfied: python-dateutil>=2.8.2 in /opt/conda/lib/python3.11/site-packages (from pandas>=2.1->xarray) (2.9.0.post0)\n",
      "Requirement already satisfied: pytz>=2020.1 in /opt/conda/lib/python3.11/site-packages (from pandas>=2.1->xarray) (2024.1)\n",
      "Requirement already satisfied: tzdata>=2022.7 in /opt/conda/lib/python3.11/site-packages (from pandas>=2.1->xarray) (2025.1)\n",
      "Requirement already satisfied: six>=1.5 in /opt/conda/lib/python3.11/site-packages (from python-dateutil>=2.8.2->pandas>=2.1->xarray) (1.17.0)\n",
      "Using cached xarray-2025.3.1-py3-none-any.whl (1.3 MB)\n",
      "Using cached netCDF4-1.7.2-cp311-cp311-manylinux_2_17_x86_64.manylinux2014_x86_64.whl (9.3 MB)\n",
      "Using cached cftime-1.6.4.post1-cp311-cp311-manylinux_2_17_x86_64.manylinux2014_x86_64.whl (1.4 MB)\n",
      "Installing collected packages: cftime, netCDF4, xarray\n",
      "Successfully installed cftime-1.6.4.post1 netCDF4-1.7.2 xarray-2025.3.1\n"
     ]
    }
   ],
   "source": [
    "!pip install xarray netCDF4\n"
   ]
  },
  {
   "cell_type": "code",
   "execution_count": 2,
   "id": "ae10ac5e-7dac-4a3b-9ba9-ecd604d7dda8",
   "metadata": {},
   "outputs": [
    {
     "name": "stdout",
     "output_type": "stream",
     "text": [
      "Collecting h5netcdf\n",
      "  Using cached h5netcdf-1.6.1-py3-none-any.whl.metadata (13 kB)\n",
      "Requirement already satisfied: h5py in /opt/conda/lib/python3.11/site-packages (from h5netcdf) (3.13.0)\n",
      "Requirement already satisfied: packaging in /opt/conda/lib/python3.11/site-packages (from h5netcdf) (24.2)\n",
      "Requirement already satisfied: numpy>=1.19.3 in /opt/conda/lib/python3.11/site-packages (from h5py->h5netcdf) (1.26.4)\n",
      "Using cached h5netcdf-1.6.1-py3-none-any.whl (49 kB)\n",
      "Installing collected packages: h5netcdf\n",
      "Successfully installed h5netcdf-1.6.1\n"
     ]
    }
   ],
   "source": [
    "!pip install h5netcdf\n"
   ]
  },
  {
   "cell_type": "code",
   "execution_count": 13,
   "id": "b3d6533c-a7cc-413d-810b-592548740551",
   "metadata": {},
   "outputs": [
    {
     "name": "stdout",
     "output_type": "stream",
     "text": [
      "<xarray.Dataset> Size: 2GB\n",
      "Dimensions:     (valid_time: 4344, latitude: 105, longitude: 237)\n",
      "Coordinates:\n",
      "    number      int64 8B ...\n",
      "  * valid_time  (valid_time) datetime64[ns] 35kB 2002-01-01 ... 2002-06-30T23...\n",
      "  * latitude    (latitude) float64 840B 50.0 49.75 49.5 ... 24.5 24.25 24.0\n",
      "  * longitude   (longitude) float64 2kB -125.0 -124.8 -124.5 ... -66.25 -66.0\n",
      "    expver      (valid_time) <U4 70kB ...\n",
      "Data variables:\n",
      "    u10         (valid_time, latitude, longitude) float32 432MB ...\n",
      "    v10         (valid_time, latitude, longitude) float32 432MB ...\n",
      "    d2m         (valid_time, latitude, longitude) float32 432MB ...\n",
      "    t2m         (valid_time, latitude, longitude) float32 432MB ...\n",
      "    sp          (valid_time, latitude, longitude) float32 432MB ...\n",
      "Attributes:\n",
      "    GRIB_centre:             ecmf\n",
      "    GRIB_centreDescription:  European Centre for Medium-Range Weather Forecasts\n",
      "    GRIB_subCentre:          0\n",
      "    Conventions:             CF-1.7\n",
      "    institution:             European Centre for Medium-Range Weather Forecasts\n",
      "    history:                 2025-04-11T15:55 GRIB to CDM+CF via cfgrib-0.9.1...\n"
     ]
    }
   ],
   "source": [
    "import boto3\n",
    "import xarray as xr\n",
    "import io\n",
    "\n",
    "# S3 client oluştur\n",
    "s3 = boto3.client(\"s3\")\n",
    "\n",
    "# S3'teki bucket ve dosya adı\n",
    "bucket_name = \"airlinessss\"\n",
    "file_key = \"data_2002_Q6_2.nc\"  # veya diğer dosya\n",
    "\n",
    "# Dosyayı belleğe oku\n",
    "response = s3.get_object(Bucket=bucket_name, Key=file_key)\n",
    "nc_data = response['Body'].read()\n",
    "\n",
    "# BytesIO üzerinden xarray ile aç (engine ekledik!)\n",
    "ds = xr.open_dataset(io.BytesIO(nc_data), engine='h5netcdf')\n",
    "print(ds)\n"
   ]
  },
  {
   "cell_type": "code",
   "execution_count": 14,
   "id": "720e5017-192d-422a-8587-14d6c2bb6ccf",
   "metadata": {},
   "outputs": [
    {
     "name": "stdout",
     "output_type": "stream",
     "text": [
      "<xarray.Dataset> Size: 433MB\n",
      "Dimensions:     (valid_time: 4344, latitude: 105, longitude: 237)\n",
      "Coordinates:\n",
      "    number      int64 8B ...\n",
      "  * valid_time  (valid_time) datetime64[ns] 35kB 2002-01-01 ... 2002-06-30T23...\n",
      "  * latitude    (latitude) float64 840B 50.0 49.75 49.5 ... 24.5 24.25 24.0\n",
      "  * longitude   (longitude) float64 2kB -125.0 -124.8 -124.5 ... -66.25 -66.0\n",
      "    expver      (valid_time) <U4 70kB ...\n",
      "Data variables:\n",
      "    tp          (valid_time, latitude, longitude) float32 432MB ...\n",
      "Attributes:\n",
      "    GRIB_centre:             ecmf\n",
      "    GRIB_centreDescription:  European Centre for Medium-Range Weather Forecasts\n",
      "    GRIB_subCentre:          0\n",
      "    Conventions:             CF-1.7\n",
      "    institution:             European Centre for Medium-Range Weather Forecasts\n",
      "    history:                 2025-04-11T15:55 GRIB to CDM+CF via cfgrib-0.9.1...\n"
     ]
    }
   ],
   "source": [
    "import boto3\n",
    "import xarray as xr\n",
    "import io\n",
    "\n",
    "# S3 client oluştur\n",
    "s3 = boto3.client(\"s3\")\n",
    "\n",
    "# S3'teki bucket ve dosya adı\n",
    "bucket_name = \"airlinessss\"\n",
    "file_key = \"data_2002_Q6.nc\"  # veya diğer dosya\n",
    "\n",
    "# Dosyayı belleğe oku\n",
    "response = s3.get_object(Bucket=bucket_name, Key=file_key)\n",
    "nc_data = response['Body'].read()\n",
    "\n",
    "# BytesIO üzerinden xarray ile aç (engine ekledik!)\n",
    "ds = xr.open_dataset(io.BytesIO(nc_data), engine='h5netcdf')\n",
    "print(ds)\n"
   ]
  },
  {
   "cell_type": "code",
   "execution_count": 15,
   "id": "0c639f44-e2d2-4b8d-abe2-6069223050b2",
   "metadata": {},
   "outputs": [
    {
     "name": "stdout",
     "output_type": "stream",
     "text": [
      "<xarray.Dataset> Size: 3GB\n",
      "Dimensions:     (valid_time: 4344, latitude: 105, longitude: 237)\n",
      "Coordinates:\n",
      "    number      int64 8B 0\n",
      "  * valid_time  (valid_time) datetime64[ns] 35kB 2002-01-01 ... 2002-06-30T23...\n",
      "  * latitude    (latitude) float64 840B 50.0 49.75 49.5 ... 24.5 24.25 24.0\n",
      "  * longitude   (longitude) float64 2kB -125.0 -124.8 -124.5 ... -66.25 -66.0\n",
      "    expver      (valid_time) <U4 70kB '0001' '0001' '0001' ... '0001' '0001'\n",
      "Data variables:\n",
      "    u10         (valid_time, latitude, longitude) float32 432MB ...\n",
      "    v10         (valid_time, latitude, longitude) float32 432MB ...\n",
      "    d2m         (valid_time, latitude, longitude) float32 432MB ...\n",
      "    t2m         (valid_time, latitude, longitude) float32 432MB ...\n",
      "    sp          (valid_time, latitude, longitude) float32 432MB ...\n",
      "    tp          (valid_time, latitude, longitude) float32 432MB ...\n",
      "Attributes:\n",
      "    GRIB_centre:             ecmf\n",
      "    GRIB_centreDescription:  European Centre for Medium-Range Weather Forecasts\n",
      "    GRIB_subCentre:          0\n",
      "    Conventions:             CF-1.7\n",
      "    institution:             European Centre for Medium-Range Weather Forecasts\n",
      "    history:                 2025-04-11T15:55 GRIB to CDM+CF via cfgrib-0.9.1...\n"
     ]
    }
   ],
   "source": [
    "import boto3\n",
    "import xarray as xr\n",
    "import io\n",
    "\n",
    "# S3 client oluştur\n",
    "s3 = boto3.client(\"s3\")\n",
    "\n",
    "# Bucket adı\n",
    "bucket_name = \"airlinessss\"\n",
    "\n",
    "# Dosya isimleri\n",
    "instant_file_key = \"data_2002_Q6_2.nc\"  # Anlık veriler\n",
    "accum_file_key = \"data_2002_Q6.nc\"     # Birikimli veriler\n",
    "\n",
    "# S3'ten indir - Anlık veri\n",
    "response_instant = s3.get_object(Bucket=bucket_name, Key=instant_file_key)\n",
    "instant_data = response_instant['Body'].read()\n",
    "ds_instant = xr.open_dataset(io.BytesIO(instant_data), engine='h5netcdf')\n",
    "\n",
    "# S3'ten indir - Birikimli veri\n",
    "response_accum = s3.get_object(Bucket=bucket_name, Key=accum_file_key)\n",
    "accum_data = response_accum['Body'].read()\n",
    "ds_accum = xr.open_dataset(io.BytesIO(accum_data), engine='h5netcdf')\n",
    "\n",
    "# 🧠 Birleştirme işlemi\n",
    "ds_merged = xr.merge([ds_instant, ds_accum])\n",
    "\n",
    "# ✅ Kontrol edelim\n",
    "print(ds_merged)\n"
   ]
  },
  {
   "cell_type": "code",
   "execution_count": 16,
   "id": "62da8617-97f8-4a3a-bd12-0592464e434f",
   "metadata": {},
   "outputs": [],
   "source": [
    "ds_merged.to_netcdf(\"2002_Q1.nc\")\n"
   ]
  },
  {
   "cell_type": "code",
   "execution_count": 17,
   "id": "3828cc50-8ba4-4c73-8522-a6d0916904a6",
   "metadata": {},
   "outputs": [
    {
     "name": "stdout",
     "output_type": "stream",
     "text": [
      "✅ Dosya başarıyla S3'e yüklendi!\n"
     ]
    }
   ],
   "source": [
    "import boto3\n",
    "\n",
    "s3 = boto3.client('s3')\n",
    "bucket_name = \"airlinessss\"\n",
    "file_path = \"2002_Q1.nc\"  # Lokal dosya\n",
    "s3_key = \"2002_Q1.nc\"     # S3'te kaydedilecek isim\n",
    "\n",
    "# Yükleme işlemi\n",
    "s3.upload_file(file_path, bucket_name, s3_key)\n",
    "\n",
    "print(\"✅ Dosya başarıyla S3'e yüklendi!\")\n"
   ]
  },
  {
   "cell_type": "code",
   "execution_count": null,
   "id": "35c38657-1960-4c09-9e95-99f7e6a60a00",
   "metadata": {},
   "outputs": [],
   "source": []
  },
  {
   "cell_type": "code",
   "execution_count": null,
   "id": "07c3b4d3-f63d-43eb-ab29-f13763d1acb8",
   "metadata": {},
   "outputs": [],
   "source": []
  }
 ],
 "metadata": {
  "kernelspec": {
   "display_name": "Python 3 (ipykernel)",
   "language": "python",
   "name": "python3"
  },
  "language_info": {
   "codemirror_mode": {
    "name": "ipython",
    "version": 3
   },
   "file_extension": ".py",
   "mimetype": "text/x-python",
   "name": "python",
   "nbconvert_exporter": "python",
   "pygments_lexer": "ipython3",
   "version": "3.11.11"
  }
 },
 "nbformat": 4,
 "nbformat_minor": 5
}
